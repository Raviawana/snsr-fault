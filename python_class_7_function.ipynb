{
  "nbformat": 4,
  "nbformat_minor": 0,
  "metadata": {
    "colab": {
      "provenance": [],
      "authorship_tag": "ABX9TyN8Yb50Ox4t8gXkher7hUnM",
      "include_colab_link": true
    },
    "kernelspec": {
      "name": "python3",
      "display_name": "Python 3"
    },
    "language_info": {
      "name": "python"
    }
  },
  "cells": [
    {
      "cell_type": "markdown",
      "metadata": {
        "id": "view-in-github",
        "colab_type": "text"
      },
      "source": [
        "<a href=\"https://colab.research.google.com/github/Raviawana/snsr-fault/blob/master/python_class_7_function.ipynb\" target=\"_parent\"><img src=\"https://colab.research.google.com/assets/colab-badge.svg\" alt=\"Open In Colab\"/></a>"
      ]
    },
    {
      "cell_type": "code",
      "execution_count": null,
      "metadata": {
        "id": "lT4q4rB49fuy"
      },
      "outputs": [],
      "source": [
        "def test(a,b):\n",
        "  return(a+b)"
      ]
    },
    {
      "cell_type": "code",
      "source": [
        "test(9,8)"
      ],
      "metadata": {
        "colab": {
          "base_uri": "https://localhost:8080/"
        },
        "id": "GirVv9R8_U-C",
        "outputId": "e02de15b-4948-4273-af81-8f53e72423bf"
      },
      "execution_count": null,
      "outputs": [
        {
          "output_type": "execute_result",
          "data": {
            "text/plain": [
              "17"
            ]
          },
          "metadata": {},
          "execution_count": 2
        }
      ]
    },
    {
      "cell_type": "code",
      "source": [
        "# we can alson write like this\n",
        "test(a=8,b=8)"
      ],
      "metadata": {
        "colab": {
          "base_uri": "https://localhost:8080/"
        },
        "id": "NtQ8UTCN_bCt",
        "outputId": "57c1ebe2-4d6b-4137-b22d-7e3d24a81cad"
      },
      "execution_count": null,
      "outputs": [
        {
          "output_type": "execute_result",
          "data": {
            "text/plain": [
              "16"
            ]
          },
          "metadata": {},
          "execution_count": 3
        }
      ]
    },
    {
      "cell_type": "code",
      "source": [
        "test('ravi','gurjar')"
      ],
      "metadata": {
        "colab": {
          "base_uri": "https://localhost:8080/",
          "height": 35
        },
        "id": "qEXSRcQP_kYj",
        "outputId": "d9dd81fa-2c9b-41e5-d4d4-a2fca9550799"
      },
      "execution_count": null,
      "outputs": [
        {
          "output_type": "execute_result",
          "data": {
            "text/plain": [
              "'ravigurjar'"
            ],
            "application/vnd.google.colaboratory.intrinsic+json": {
              "type": "string"
            }
          },
          "metadata": {},
          "execution_count": 4
        }
      ]
    },
    {
      "cell_type": "code",
      "source": [
        "#even like this\n",
        "test(b=6,a=7)"
      ],
      "metadata": {
        "colab": {
          "base_uri": "https://localhost:8080/"
        },
        "id": "_8w6zsHE_t9V",
        "outputId": "0a723762-957b-4a8f-9b34-4807ec98628b"
      },
      "execution_count": null,
      "outputs": [
        {
          "output_type": "execute_result",
          "data": {
            "text/plain": [
              "13"
            ]
          },
          "metadata": {},
          "execution_count": 5
        }
      ]
    },
    {
      "cell_type": "code",
      "source": [
        "# If we print( ) it will give me dockstring,We can even create our own dockstring by ''' and text''' like in below cell\n",
        "print()\n"
      ],
      "metadata": {
        "colab": {
          "base_uri": "https://localhost:8080/"
        },
        "id": "OZTluWdK_2G2",
        "outputId": "8e053602-26a4-4b1b-b886-3bb77475ded6"
      },
      "execution_count": null,
      "outputs": [
        {
          "output_type": "stream",
          "name": "stdout",
          "text": [
            "\n"
          ]
        }
      ]
    },
    {
      "cell_type": "code",
      "source": [
        "def test(a,b):\n",
        "  '''this is my this is my function for addition'''\n",
        "  return(a+b)\n"
      ],
      "metadata": {
        "id": "n-eJkwEFAk9D"
      },
      "execution_count": null,
      "outputs": []
    },
    {
      "cell_type": "markdown",
      "source": [
        "It is mandatory to pass the equal numbers in input and in function input"
      ],
      "metadata": {
        "id": "cYYLpriRDQYR"
      }
    },
    {
      "cell_type": "code",
      "source": [
        "def test1(a,b,b,d,e):\n",
        "return(a,b,c,d,e,e)"
      ],
      "metadata": {
        "colab": {
          "base_uri": "https://localhost:8080/",
          "height": 130
        },
        "id": "WCqWUKhsCJnK",
        "outputId": "4285d368-3a7e-4f76-bea3-2b049eaa92a8"
      },
      "execution_count": null,
      "outputs": [
        {
          "output_type": "error",
          "ename": "IndentationError",
          "evalue": "ignored",
          "traceback": [
            "\u001b[0;36m  File \u001b[0;32m\"<ipython-input-14-cffb1150ca53>\"\u001b[0;36m, line \u001b[0;32m2\u001b[0m\n\u001b[0;31m    return(a,b,c,d,e,e)\u001b[0m\n\u001b[0m    ^\u001b[0m\n\u001b[0;31mIndentationError\u001b[0m\u001b[0;31m:\u001b[0m expected an indented block after function definition on line 1\n"
          ]
        }
      ]
    },
    {
      "cell_type": "code",
      "source": [
        "# NUMBER OF ELEMENTS SHOULD BE SAME\n",
        "def test1(a,b,c,d,e):\n",
        "  return(a,b,c,d,e)\n"
      ],
      "metadata": {
        "id": "-ILDJD4LD7Ej"
      },
      "execution_count": null,
      "outputs": []
    },
    {
      "cell_type": "code",
      "source": [
        "test1(1,2,3,4,5)"
      ],
      "metadata": {
        "colab": {
          "base_uri": "https://localhost:8080/"
        },
        "id": "lVi2BQf0FBK9",
        "outputId": "0f020f14-e50d-4465-fdbf-3c8a9f087055"
      },
      "execution_count": null,
      "outputs": [
        {
          "output_type": "execute_result",
          "data": {
            "text/plain": [
              "(1, 2, 3, 4, 5)"
            ]
          },
          "metadata": {},
          "execution_count": 16
        }
      ]
    },
    {
      "cell_type": "code",
      "source": [
        "test1(1,2,3,4,5,6)            # Not more "
      ],
      "metadata": {
        "colab": {
          "base_uri": "https://localhost:8080/",
          "height": 165
        },
        "id": "frDHIKJ5HLfS",
        "outputId": "25ccf5f7-75c5-4c35-c081-93b327deaaf2"
      },
      "execution_count": null,
      "outputs": [
        {
          "output_type": "error",
          "ename": "TypeError",
          "evalue": "ignored",
          "traceback": [
            "\u001b[0;31m---------------------------------------------------------------------------\u001b[0m",
            "\u001b[0;31mTypeError\u001b[0m                                 Traceback (most recent call last)",
            "\u001b[0;32m<ipython-input-18-5761e930a243>\u001b[0m in \u001b[0;36m<cell line: 1>\u001b[0;34m()\u001b[0m\n\u001b[0;32m----> 1\u001b[0;31m \u001b[0mtest1\u001b[0m\u001b[0;34m(\u001b[0m\u001b[0;36m1\u001b[0m\u001b[0;34m,\u001b[0m\u001b[0;36m2\u001b[0m\u001b[0;34m,\u001b[0m\u001b[0;36m3\u001b[0m\u001b[0;34m,\u001b[0m\u001b[0;36m4\u001b[0m\u001b[0;34m,\u001b[0m\u001b[0;36m5\u001b[0m\u001b[0;34m,\u001b[0m\u001b[0;36m6\u001b[0m\u001b[0;34m)\u001b[0m\u001b[0;34m\u001b[0m\u001b[0;34m\u001b[0m\u001b[0m\n\u001b[0m",
            "\u001b[0;31mTypeError\u001b[0m: test1() takes 5 positional arguments but 6 were given"
          ]
        }
      ]
    },
    {
      "cell_type": "code",
      "source": [
        "test1(1,2,3,4)                # Not less"
      ],
      "metadata": {
        "colab": {
          "base_uri": "https://localhost:8080/",
          "height": 165
        },
        "id": "25cJYJZsHOmi",
        "outputId": "59fe7cda-0cae-4670-fb21-82850400c065"
      },
      "execution_count": null,
      "outputs": [
        {
          "output_type": "error",
          "ename": "TypeError",
          "evalue": "ignored",
          "traceback": [
            "\u001b[0;31m---------------------------------------------------------------------------\u001b[0m",
            "\u001b[0;31mTypeError\u001b[0m                                 Traceback (most recent call last)",
            "\u001b[0;32m<ipython-input-19-f2b21aa5fde2>\u001b[0m in \u001b[0;36m<cell line: 1>\u001b[0;34m()\u001b[0m\n\u001b[0;32m----> 1\u001b[0;31m \u001b[0mtest1\u001b[0m\u001b[0;34m(\u001b[0m\u001b[0;36m1\u001b[0m\u001b[0;34m,\u001b[0m\u001b[0;36m2\u001b[0m\u001b[0;34m,\u001b[0m\u001b[0;36m3\u001b[0m\u001b[0;34m,\u001b[0m\u001b[0;36m4\u001b[0m\u001b[0;34m)\u001b[0m\u001b[0;34m\u001b[0m\u001b[0;34m\u001b[0m\u001b[0m\n\u001b[0m",
            "\u001b[0;31mTypeError\u001b[0m: test1() missing 1 required positional argument: 'e'"
          ]
        }
      ]
    },
    {
      "cell_type": "markdown",
      "source": [
        "If i have to create a function where i don't have this capping of exact numbers"
      ],
      "metadata": {
        "id": "4TVomDm2HgVA"
      }
    },
    {
      "cell_type": "code",
      "source": [
        "def test2(*a):            # It will gonna return as many numbers we can give\n",
        "  return(a)"
      ],
      "metadata": {
        "id": "wWPOqKOMHag1"
      },
      "execution_count": null,
      "outputs": []
    },
    {
      "cell_type": "code",
      "source": [
        "test2(1,22,3,4,5,[1,2,3])"
      ],
      "metadata": {
        "colab": {
          "base_uri": "https://localhost:8080/"
        },
        "id": "hzCqeXwgIX7a",
        "outputId": "0c48552d-b8dc-48e6-e85e-644109168ae3"
      },
      "execution_count": null,
      "outputs": [
        {
          "output_type": "execute_result",
          "data": {
            "text/plain": [
              "(1, 22, 3, 4, 5, [1, 2, 3])"
            ]
          },
          "metadata": {},
          "execution_count": 21
        }
      ]
    },
    {
      "cell_type": "markdown",
      "source": [
        "If we want to get outcome in list, as of now it is returning in tuples than"
      ],
      "metadata": {
        "id": "SrnNs8HdJUCi"
      }
    },
    {
      "cell_type": "code",
      "source": [
        "def test4(*a):\n",
        "  l=[]\n",
        "  for i in a:\n",
        "    l.append(i)\n",
        "  return(l)"
      ],
      "metadata": {
        "id": "rX1D2pBpIgmO"
      },
      "execution_count": null,
      "outputs": []
    },
    {
      "cell_type": "code",
      "source": [
        "test4(1,2,3,47)"
      ],
      "metadata": {
        "colab": {
          "base_uri": "https://localhost:8080/"
        },
        "id": "368vLDAtKeQG",
        "outputId": "31483c1f-942d-46bd-b24d-180ec1956d0e"
      },
      "execution_count": null,
      "outputs": [
        {
          "output_type": "execute_result",
          "data": {
            "text/plain": [
              "[1, 2, 3, 47]"
            ]
          },
          "metadata": {},
          "execution_count": 30
        }
      ]
    },
    {
      "cell_type": "markdown",
      "source": [
        "if we want first four variable as a string another than other than four than"
      ],
      "metadata": {
        "id": "8nE0ymp3ME0y"
      }
    },
    {
      "cell_type": "code",
      "source": [
        "def test5(a,b,c,d,*m):\n",
        "  return(a,b,c,d,m)"
      ],
      "metadata": {
        "id": "gO30mbsuKkNr"
      },
      "execution_count": null,
      "outputs": []
    },
    {
      "cell_type": "code",
      "source": [
        "test5(1,2,3,4,5,6,7,8,9)"
      ],
      "metadata": {
        "colab": {
          "base_uri": "https://localhost:8080/"
        },
        "id": "KFQN_TJ_MzLR",
        "outputId": "5cc302bd-3f10-4da9-99aa-15ed25613c92"
      },
      "execution_count": null,
      "outputs": [
        {
          "output_type": "execute_result",
          "data": {
            "text/plain": [
              "(1, 2, 3, 4, (5, 6, 7, 8, 9))"
            ]
          },
          "metadata": {},
          "execution_count": 33
        }
      ]
    },
    {
      "cell_type": "code",
      "source": [
        "def test7(*m,a,b,c,d,e):\n",
        "  return m,a,b,c,d,e\n"
      ],
      "metadata": {
        "id": "_7C4YN_SM4Dj"
      },
      "execution_count": null,
      "outputs": []
    },
    {
      "cell_type": "code",
      "source": [
        "# If we put values normally than it will give error bcz it accept values as 'm' , so we have to assign values of a,b,c,d individually\n",
        "test7(1,2,3,4,5,6,a=1,b=2,c=3,d=55,e=45)"
      ],
      "metadata": {
        "colab": {
          "base_uri": "https://localhost:8080/"
        },
        "id": "dA5Yb-VaQS6P",
        "outputId": "d39759b8-ded2-453c-8b1f-707c1a6262d8"
      },
      "execution_count": null,
      "outputs": [
        {
          "output_type": "execute_result",
          "data": {
            "text/plain": [
              "((1, 2, 3, 4, 5, 6), 1, 2, 3, 55, 45)"
            ]
          },
          "metadata": {},
          "execution_count": 38
        }
      ]
    },
    {
      "cell_type": "markdown",
      "source": [
        "We might get into situtions in which we have to pass key values like data\n"
      ],
      "metadata": {
        "id": "lRFBZcNaR0zq"
      }
    },
    {
      "cell_type": "code",
      "source": [
        "def test8(**ravi):\n",
        "  return ravi\n",
        "  "
      ],
      "metadata": {
        "id": "8LVBqrRXRW3Q"
      },
      "execution_count": null,
      "outputs": []
    },
    {
      "cell_type": "code",
      "source": [
        "# If we put numbers over here than it gonna give us error \n",
        "test8(1,2,3,4)"
      ],
      "metadata": {
        "colab": {
          "base_uri": "https://localhost:8080/",
          "height": 183
        },
        "id": "1vK3AkbGSohi",
        "outputId": "707a31fb-5ada-4cc7-a634-53aa279ceebb"
      },
      "execution_count": null,
      "outputs": [
        {
          "output_type": "error",
          "ename": "TypeError",
          "evalue": "ignored",
          "traceback": [
            "\u001b[0;31m---------------------------------------------------------------------------\u001b[0m",
            "\u001b[0;31mTypeError\u001b[0m                                 Traceback (most recent call last)",
            "\u001b[0;32m<ipython-input-40-d19e229bce84>\u001b[0m in \u001b[0;36m<cell line: 2>\u001b[0;34m()\u001b[0m\n\u001b[1;32m      1\u001b[0m \u001b[0;31m# If we put numbers over here than it gonna give us error\u001b[0m\u001b[0;34m\u001b[0m\u001b[0;34m\u001b[0m\u001b[0m\n\u001b[0;32m----> 2\u001b[0;31m \u001b[0mtest8\u001b[0m\u001b[0;34m(\u001b[0m\u001b[0;36m1\u001b[0m\u001b[0;34m,\u001b[0m\u001b[0;36m2\u001b[0m\u001b[0;34m,\u001b[0m\u001b[0;36m3\u001b[0m\u001b[0;34m,\u001b[0m\u001b[0;36m4\u001b[0m\u001b[0;34m)\u001b[0m\u001b[0;34m\u001b[0m\u001b[0;34m\u001b[0m\u001b[0m\n\u001b[0m",
            "\u001b[0;31mTypeError\u001b[0m: test8() takes 0 positional arguments but 4 were given"
          ]
        }
      ]
    },
    {
      "cell_type": "code",
      "source": [
        "test8('ravi','uday','aakriti')"
      ],
      "metadata": {
        "colab": {
          "base_uri": "https://localhost:8080/",
          "height": 165
        },
        "id": "LBbHLqbXS_vj",
        "outputId": "9fd7800a-345c-4e8c-e7f2-462b1e906eb5"
      },
      "execution_count": null,
      "outputs": [
        {
          "output_type": "error",
          "ename": "TypeError",
          "evalue": "ignored",
          "traceback": [
            "\u001b[0;31m---------------------------------------------------------------------------\u001b[0m",
            "\u001b[0;31mTypeError\u001b[0m                                 Traceback (most recent call last)",
            "\u001b[0;32m<ipython-input-41-01601e8e727d>\u001b[0m in \u001b[0;36m<cell line: 1>\u001b[0;34m()\u001b[0m\n\u001b[0;32m----> 1\u001b[0;31m \u001b[0mtest8\u001b[0m\u001b[0;34m(\u001b[0m\u001b[0;34m'ravi'\u001b[0m\u001b[0;34m,\u001b[0m\u001b[0;34m'uday'\u001b[0m\u001b[0;34m,\u001b[0m\u001b[0;34m'aakriti'\u001b[0m\u001b[0;34m)\u001b[0m\u001b[0;34m\u001b[0m\u001b[0;34m\u001b[0m\u001b[0m\n\u001b[0m",
            "\u001b[0;31mTypeError\u001b[0m: test8() takes 0 positional arguments but 3 were given"
          ]
        }
      ]
    },
    {
      "cell_type": "code",
      "source": [
        "test8(a=4,b=2,c=5,d=54)"
      ],
      "metadata": {
        "colab": {
          "base_uri": "https://localhost:8080/"
        },
        "id": "8m7xtg4MTPTl",
        "outputId": "f4040235-cc09-4587-ffb9-9fc654a47e39"
      },
      "execution_count": null,
      "outputs": [
        {
          "output_type": "execute_result",
          "data": {
            "text/plain": [
              "{'a': 4, 'b': 2, 'c': 5, 'd': 54}"
            ]
          },
          "metadata": {},
          "execution_count": 42
        }
      ]
    },
    {
      "cell_type": "code",
      "source": [
        "test8(a=4,b=2,c=5,d=54,n=[1,2,3,4,5,6])"
      ],
      "metadata": {
        "colab": {
          "base_uri": "https://localhost:8080/"
        },
        "id": "dKB_-VB2T1LE",
        "outputId": "c840e347-5f44-4f04-f7ff-3a356380adbf"
      },
      "execution_count": null,
      "outputs": [
        {
          "output_type": "execute_result",
          "data": {
            "text/plain": [
              "{'a': 4, 'b': 2, 'c': 5, 'd': 54, 'n': [1, 2, 3, 4, 5, 6]}"
            ]
          },
          "metadata": {},
          "execution_count": 43
        }
      ]
    },
    {
      "cell_type": "code",
      "source": [
        "# If we have to merge both than \n",
        "def test9(*m,**n):\n",
        "  return m,n\n",
        "          "
      ],
      "metadata": {
        "id": "ltjbizScUJcY"
      },
      "execution_count": null,
      "outputs": []
    },
    {
      "cell_type": "code",
      "source": [
        "test9(1,2,3,4,5,6,7,a=45,b=78,c=65)"
      ],
      "metadata": {
        "colab": {
          "base_uri": "https://localhost:8080/"
        },
        "id": "p9djHzEhUxUN",
        "outputId": "c9340b8c-7a6b-49e3-ec89-6c8793ab5487"
      },
      "execution_count": null,
      "outputs": [
        {
          "output_type": "execute_result",
          "data": {
            "text/plain": [
              "((1, 2, 3, 4, 5, 6, 7), {'a': 45, 'b': 78, 'c': 65})"
            ]
          },
          "metadata": {},
          "execution_count": 45
        }
      ]
    },
    {
      "cell_type": "code",
      "source": [
        "# FOR ADDITION\n",
        "def test10(*m):\n",
        "  n=0\n",
        "  for i in m:\n",
        "    if type(i)==int:\n",
        "      n=n+i\n",
        "  return n    \n",
        "\n"
      ],
      "metadata": {
        "id": "E8Mn_bEAU6hg"
      },
      "execution_count": null,
      "outputs": []
    },
    {
      "cell_type": "code",
      "source": [
        "test10(25,25,25)"
      ],
      "metadata": {
        "colab": {
          "base_uri": "https://localhost:8080/"
        },
        "id": "L-PbN0GJXjun",
        "outputId": "9ce86c33-647c-4881-be3e-cbcd88bf05c5"
      },
      "execution_count": null,
      "outputs": [
        {
          "output_type": "execute_result",
          "data": {
            "text/plain": [
              "75"
            ]
          },
          "metadata": {},
          "execution_count": 48
        }
      ]
    },
    {
      "cell_type": "code",
      "source": [
        "test10(4524,5698,5547,56855)"
      ],
      "metadata": {
        "colab": {
          "base_uri": "https://localhost:8080/"
        },
        "id": "Y3hEZ41mXttw",
        "outputId": "d358402d-7762-4a89-904d-d78ba79e4660"
      },
      "execution_count": null,
      "outputs": [
        {
          "output_type": "execute_result",
          "data": {
            "text/plain": [
              "72624"
            ]
          },
          "metadata": {},
          "execution_count": 49
        }
      ]
    },
    {
      "cell_type": "code",
      "source": [
        "# FOR MULTIPLICATION\n",
        "def test11(*m):\n",
        "  n=1\n",
        "  for i in m:\n",
        "    if type(i)==int:\n",
        "      n=n*i\n",
        "  return n    "
      ],
      "metadata": {
        "id": "oWfakGUJXynF"
      },
      "execution_count": null,
      "outputs": []
    },
    {
      "cell_type": "code",
      "source": [
        "test11(2,2,5)"
      ],
      "metadata": {
        "colab": {
          "base_uri": "https://localhost:8080/"
        },
        "id": "LnbXj7ThYS4e",
        "outputId": "a19451e0-883e-4d93-a1b0-495c93b0d510"
      },
      "execution_count": null,
      "outputs": [
        {
          "output_type": "execute_result",
          "data": {
            "text/plain": [
              "20"
            ]
          },
          "metadata": {},
          "execution_count": 51
        }
      ]
    },
    {
      "cell_type": "markdown",
      "source": [
        "How to create a annonomys kind of function or LAMBDA \n",
        "Why it is named as annonomys function?\n",
        "-because it has no name \n",
        "\n",
        "\n",
        "Always put lambda in beg..,, because only than python compiler will understand that you are trying to summon lambda.\n",
        "\n",
        "and just try to avoid the complex function inside lambda , it will make it look clumsy"
      ],
      "metadata": {
        "id": "ANnQKjFLYrOK"
      }
    },
    {
      "cell_type": "code",
      "source": [
        "n=lambda a,b:a+b    # So here we are storing this lambda fun inside a variable 'n' and we can call it whenever we need it"
      ],
      "metadata": {
        "id": "PnEsjcpIf4D-"
      },
      "execution_count": null,
      "outputs": []
    },
    {
      "cell_type": "code",
      "source": [
        "n"
      ],
      "metadata": {
        "colab": {
          "base_uri": "https://localhost:8080/"
        },
        "id": "istXP_LkgBu7",
        "outputId": "a5b8ca12-ccc4-4473-c9f3-33f417608945"
      },
      "execution_count": null,
      "outputs": [
        {
          "output_type": "execute_result",
          "data": {
            "text/plain": [
              "<function __main__.<lambda>(a, b)>"
            ]
          },
          "metadata": {},
          "execution_count": 54
        }
      ]
    },
    {
      "cell_type": "code",
      "source": [
        "n(4,9)    # Can we say that this function is equal to the function which we have created earlier"
      ],
      "metadata": {
        "colab": {
          "base_uri": "https://localhost:8080/"
        },
        "id": "0UTld8AXgCrM",
        "outputId": "3a1294c1-69ea-4dc1-a06d-2a75883d52ab"
      },
      "execution_count": null,
      "outputs": [
        {
          "output_type": "execute_result",
          "data": {
            "text/plain": [
              "13"
            ]
          },
          "metadata": {},
          "execution_count": 56
        }
      ]
    },
    {
      "cell_type": "code",
      "source": [
        "b=lambda *ravi :ravi\n",
        "\n"
      ],
      "metadata": {
        "id": "RSSTPK7EgLdX"
      },
      "execution_count": null,
      "outputs": []
    },
    {
      "cell_type": "code",
      "source": [
        "b(14,5,5,4,6,7)       # We can say that bheavour of this function is same as we have seen earlier"
      ],
      "metadata": {
        "colab": {
          "base_uri": "https://localhost:8080/"
        },
        "id": "lnrqdm9tjcO_",
        "outputId": "92706480-150f-48ac-c46c-09dcc0ec9758"
      },
      "execution_count": null,
      "outputs": [
        {
          "output_type": "execute_result",
          "data": {
            "text/plain": [
              "(14, 5, 5, 4, 6, 7)"
            ]
          },
          "metadata": {},
          "execution_count": 62
        }
      ]
    },
    {
      "cell_type": "markdown",
      "source": [
        "If we want to convert entire tuple into a list than"
      ],
      "metadata": {
        "id": "f6JNTbXSl3JF"
      }
    },
    {
      "cell_type": "code",
      "source": [
        "a=(1,2,3,4,5,6)\n",
        "b=[]\n",
        "for i in a:\n",
        "  b.append(i)\n"
      ],
      "metadata": {
        "id": "CvzA0ZYbjhdn"
      },
      "execution_count": null,
      "outputs": []
    },
    {
      "cell_type": "code",
      "source": [
        "b"
      ],
      "metadata": {
        "colab": {
          "base_uri": "https://localhost:8080/"
        },
        "id": "o-N1JtWwmWpK",
        "outputId": "d286046f-4592-49fa-a1a3-a2efff3e9342"
      },
      "execution_count": null,
      "outputs": [
        {
          "output_type": "execute_result",
          "data": {
            "text/plain": [
              "[1, 2, 3, 4, 5, 6]"
            ]
          },
          "metadata": {},
          "execution_count": 66
        }
      ]
    },
    {
      "cell_type": "code",
      "source": [
        "# BUt we can do it in one line only"
      ],
      "metadata": {
        "id": "QSnsMrztmoGS"
      },
      "execution_count": null,
      "outputs": []
    },
    {
      "cell_type": "code",
      "source": [
        "[i for i in a]              # first 'i'is bcz we have to append it"
      ],
      "metadata": {
        "colab": {
          "base_uri": "https://localhost:8080/"
        },
        "id": "uvyf_pLlm5fR",
        "outputId": "302af834-51ed-4a63-ded2-b87a5931d8cb"
      },
      "execution_count": null,
      "outputs": [
        {
          "output_type": "execute_result",
          "data": {
            "text/plain": [
              "[1, 2, 3, 4, 5, 6]"
            ]
          },
          "metadata": {},
          "execution_count": 68
        }
      ]
    },
    {
      "cell_type": "code",
      "source": [
        "e='ravindra'"
      ],
      "metadata": {
        "id": "GDl6K3vOrZn3"
      },
      "execution_count": null,
      "outputs": []
    },
    {
      "cell_type": "code",
      "source": [
        "# if we have to convert this string into a list than\n",
        "[i for i in e]"
      ],
      "metadata": {
        "colab": {
          "base_uri": "https://localhost:8080/"
        },
        "id": "8bzDX_p9r4LG",
        "outputId": "b23b09bd-d382-45f8-dc96-1314478ff797"
      },
      "execution_count": null,
      "outputs": [
        {
          "output_type": "execute_result",
          "data": {
            "text/plain": [
              "['r', 'a', 'v', 'i', 'n', 'd', 'r', 'a']"
            ]
          },
          "metadata": {},
          "execution_count": 70
        }
      ]
    },
    {
      "cell_type": "code",
      "source": [
        "# If i have to generate square of numbers from 1-10\n",
        "[i*i for i in range(11)]"
      ],
      "metadata": {
        "colab": {
          "base_uri": "https://localhost:8080/"
        },
        "id": "QXMEAZL5sK4a",
        "outputId": "9d74f46a-b172-4cdd-c15e-add4af2983c1"
      },
      "execution_count": null,
      "outputs": [
        {
          "output_type": "execute_result",
          "data": {
            "text/plain": [
              "[0, 1, 4, 9, 16, 25, 36, 49, 64, 81, 100]"
            ]
          },
          "metadata": {},
          "execution_count": 71
        }
      ]
    },
    {
      "cell_type": "code",
      "source": [
        "l=lambda *x:[i for i in x]"
      ],
      "metadata": {
        "id": "mFskdgBss1TV"
      },
      "execution_count": null,
      "outputs": []
    },
    {
      "cell_type": "code",
      "source": [
        "l(1,2,3,4,5,6,7,8,9)"
      ],
      "metadata": {
        "colab": {
          "base_uri": "https://localhost:8080/"
        },
        "id": "4l3qDVJktqYh",
        "outputId": "f0caee95-1a75-444c-8790-7dd78750f4d4"
      },
      "execution_count": null,
      "outputs": [
        {
          "output_type": "execute_result",
          "data": {
            "text/plain": [
              "[1, 2, 3, 4, 5, 6, 7, 8, 9]"
            ]
          },
          "metadata": {},
          "execution_count": 76
        }
      ]
    },
    {
      "cell_type": "code",
      "source": [
        "# If i have to get square of elements\n",
        "l=lambda *x:[i**2 for i in x]"
      ],
      "metadata": {
        "id": "tq_x7qZRtvMD"
      },
      "execution_count": null,
      "outputs": []
    },
    {
      "cell_type": "code",
      "source": [
        "l(1,2,3,4,5,6,7,8,9)"
      ],
      "metadata": {
        "colab": {
          "base_uri": "https://localhost:8080/"
        },
        "id": "XPGax2XjuMAP",
        "outputId": "5a614b68-61d1-4318-8777-e73beb7a908b"
      },
      "execution_count": null,
      "outputs": [
        {
          "output_type": "execute_result",
          "data": {
            "text/plain": [
              "[1, 4, 9, 16, 25, 36, 49, 64, 81]"
            ]
          },
          "metadata": {},
          "execution_count": 78
        }
      ]
    },
    {
      "cell_type": "code",
      "source": [
        "# If we have to find number that how much times a string has passed\n"
      ],
      "metadata": {
        "id": "EroOftPNuO9b"
      },
      "execution_count": null,
      "outputs": []
    }
  ]
}